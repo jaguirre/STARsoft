{
 "cells": [
  {
   "cell_type": "code",
   "execution_count": 1,
   "metadata": {},
   "outputs": [
    {
     "name": "stderr",
     "output_type": "stream",
     "text": [
      "\n",
      "Bad key \"ÿþa\u0000x\u0000e\u0000s\u0000.\u0000t\u0000i\u0000t\u0000l\u0000e\u0000s\u0000i\u0000z\u0000e\u0000 \u0000\" on line 1 in\n",
      "C:\\Users\\Alyssa\\Anaconda3\\lib\\site-packages\\matplotlib\\mpl-data\\stylelib\\acmb_old.mplstyle.\n",
      "You probably need to get an updated matplotlibrc file from\n",
      "http://github.com/matplotlib/matplotlib/blob/master/matplotlibrc.template\n",
      "or from the matplotlib source distribution\n",
      "\n",
      "Bad key \"\u0000a\u0000x\u0000e\u0000s\u0000.\u0000l\u0000a\u0000b\u0000e\u0000l\u0000s\u0000i\u0000z\u0000e\u0000 \u0000\" on line 3 in\n",
      "C:\\Users\\Alyssa\\Anaconda3\\lib\\site-packages\\matplotlib\\mpl-data\\stylelib\\acmb_old.mplstyle.\n",
      "You probably need to get an updated matplotlibrc file from\n",
      "http://github.com/matplotlib/matplotlib/blob/master/matplotlibrc.template\n",
      "or from the matplotlib source distribution\n",
      "\n",
      "Bad key \"\u0000l\u0000i\u0000n\u0000e\u0000s\u0000.\u0000l\u0000i\u0000n\u0000e\u0000w\u0000i\u0000d\u0000t\u0000h\u0000 \u0000\" on line 5 in\n",
      "C:\\Users\\Alyssa\\Anaconda3\\lib\\site-packages\\matplotlib\\mpl-data\\stylelib\\acmb_old.mplstyle.\n",
      "You probably need to get an updated matplotlibrc file from\n",
      "http://github.com/matplotlib/matplotlib/blob/master/matplotlibrc.template\n",
      "or from the matplotlib source distribution\n",
      "\n",
      "Bad key \"\u0000l\u0000i\u0000n\u0000e\u0000s\u0000.\u0000m\u0000a\u0000r\u0000k\u0000e\u0000r\u0000s\u0000i\u0000z\u0000e\u0000 \u0000\" on line 7 in\n",
      "C:\\Users\\Alyssa\\Anaconda3\\lib\\site-packages\\matplotlib\\mpl-data\\stylelib\\acmb_old.mplstyle.\n",
      "You probably need to get an updated matplotlibrc file from\n",
      "http://github.com/matplotlib/matplotlib/blob/master/matplotlibrc.template\n",
      "or from the matplotlib source distribution\n",
      "\n",
      "Bad key \"\u0000x\u0000t\u0000i\u0000c\u0000k\u0000.\u0000l\u0000a\u0000b\u0000e\u0000l\u0000s\u0000i\u0000z\u0000e\u0000 \u0000\" on line 9 in\n",
      "C:\\Users\\Alyssa\\Anaconda3\\lib\\site-packages\\matplotlib\\mpl-data\\stylelib\\acmb_old.mplstyle.\n",
      "You probably need to get an updated matplotlibrc file from\n",
      "http://github.com/matplotlib/matplotlib/blob/master/matplotlibrc.template\n",
      "or from the matplotlib source distribution\n",
      "\n",
      "Bad key \"\u0000x\u0000t\u0000i\u0000c\u0000k\u0000.\u0000d\u0000i\u0000r\u0000e\u0000c\u0000t\u0000i\u0000o\u0000n\u0000\" on line 11 in\n",
      "C:\\Users\\Alyssa\\Anaconda3\\lib\\site-packages\\matplotlib\\mpl-data\\stylelib\\acmb_old.mplstyle.\n",
      "You probably need to get an updated matplotlibrc file from\n",
      "http://github.com/matplotlib/matplotlib/blob/master/matplotlibrc.template\n",
      "or from the matplotlib source distribution\n",
      "\n",
      "Bad key \"\u0000x\u0000t\u0000i\u0000c\u0000k\u0000.\u0000m\u0000a\u0000j\u0000o\u0000r\u0000.\u0000t\u0000o\u0000p\u0000 \u0000\" on line 13 in\n",
      "C:\\Users\\Alyssa\\Anaconda3\\lib\\site-packages\\matplotlib\\mpl-data\\stylelib\\acmb_old.mplstyle.\n",
      "You probably need to get an updated matplotlibrc file from\n",
      "http://github.com/matplotlib/matplotlib/blob/master/matplotlibrc.template\n",
      "or from the matplotlib source distribution\n",
      "\n",
      "Bad key \"\u0000x\u0000t\u0000i\u0000c\u0000k\u0000.\u0000m\u0000a\u0000j\u0000o\u0000r\u0000.\u0000b\u0000o\u0000t\u0000t\u0000o\u0000m\u0000\" on line 15 in\n",
      "C:\\Users\\Alyssa\\Anaconda3\\lib\\site-packages\\matplotlib\\mpl-data\\stylelib\\acmb_old.mplstyle.\n",
      "You probably need to get an updated matplotlibrc file from\n",
      "http://github.com/matplotlib/matplotlib/blob/master/matplotlibrc.template\n",
      "or from the matplotlib source distribution\n",
      "\n",
      "Bad key \"\u0000x\u0000t\u0000i\u0000c\u0000k\u0000.\u0000m\u0000a\u0000j\u0000o\u0000r\u0000.\u0000w\u0000i\u0000d\u0000t\u0000h\u0000\" on line 17 in\n",
      "C:\\Users\\Alyssa\\Anaconda3\\lib\\site-packages\\matplotlib\\mpl-data\\stylelib\\acmb_old.mplstyle.\n",
      "You probably need to get an updated matplotlibrc file from\n",
      "http://github.com/matplotlib/matplotlib/blob/master/matplotlibrc.template\n",
      "or from the matplotlib source distribution\n",
      "\n",
      "Bad key \"\u0000y\u0000t\u0000i\u0000c\u0000k\u0000.\u0000l\u0000a\u0000b\u0000e\u0000l\u0000s\u0000i\u0000z\u0000e\u0000 \u0000\" on line 19 in\n",
      "C:\\Users\\Alyssa\\Anaconda3\\lib\\site-packages\\matplotlib\\mpl-data\\stylelib\\acmb_old.mplstyle.\n",
      "You probably need to get an updated matplotlibrc file from\n",
      "http://github.com/matplotlib/matplotlib/blob/master/matplotlibrc.template\n",
      "or from the matplotlib source distribution\n",
      "\n",
      "Bad key \"\u0000y\u0000t\u0000i\u0000c\u0000k\u0000.\u0000d\u0000i\u0000r\u0000e\u0000c\u0000t\u0000i\u0000o\u0000n\u0000\" on line 21 in\n",
      "C:\\Users\\Alyssa\\Anaconda3\\lib\\site-packages\\matplotlib\\mpl-data\\stylelib\\acmb_old.mplstyle.\n",
      "You probably need to get an updated matplotlibrc file from\n",
      "http://github.com/matplotlib/matplotlib/blob/master/matplotlibrc.template\n",
      "or from the matplotlib source distribution\n",
      "\n",
      "Bad key \"\u0000y\u0000t\u0000i\u0000c\u0000k\u0000.\u0000m\u0000a\u0000j\u0000o\u0000r\u0000.\u0000l\u0000e\u0000f\u0000t\u0000\" on line 23 in\n",
      "C:\\Users\\Alyssa\\Anaconda3\\lib\\site-packages\\matplotlib\\mpl-data\\stylelib\\acmb_old.mplstyle.\n",
      "You probably need to get an updated matplotlibrc file from\n",
      "http://github.com/matplotlib/matplotlib/blob/master/matplotlibrc.template\n",
      "or from the matplotlib source distribution\n",
      "\n",
      "Bad key \"\u0000y\u0000t\u0000i\u0000c\u0000k\u0000.\u0000m\u0000a\u0000j\u0000o\u0000r\u0000.\u0000r\u0000i\u0000g\u0000h\u0000t\u0000\" on line 25 in\n",
      "C:\\Users\\Alyssa\\Anaconda3\\lib\\site-packages\\matplotlib\\mpl-data\\stylelib\\acmb_old.mplstyle.\n",
      "You probably need to get an updated matplotlibrc file from\n",
      "http://github.com/matplotlib/matplotlib/blob/master/matplotlibrc.template\n",
      "or from the matplotlib source distribution\n",
      "\n",
      "Bad key \"\u0000y\u0000t\u0000i\u0000c\u0000k\u0000.\u0000m\u0000a\u0000j\u0000o\u0000r\u0000.\u0000w\u0000i\u0000d\u0000t\u0000h\u0000\" on line 27 in\n",
      "C:\\Users\\Alyssa\\Anaconda3\\lib\\site-packages\\matplotlib\\mpl-data\\stylelib\\acmb_old.mplstyle.\n",
      "You probably need to get an updated matplotlibrc file from\n",
      "http://github.com/matplotlib/matplotlib/blob/master/matplotlibrc.template\n",
      "or from the matplotlib source distribution\n",
      "C:\\Users\\Alyssa\\Anaconda3\\lib\\site-packages\\matplotlib\\style\\core.py:201: UserWarning: In C:\\Users\\Alyssa\\Anaconda3\\lib\\site-packages\\matplotlib\\mpl-data\\stylelib\\acmb_old.mplstyle: Illegal line #2\n",
      "\t\"\u0000\n",
      "\"\n",
      "\tin file \"C:\\Users\\Alyssa\\Anaconda3\\lib\\site-packages\\matplotlib\\mpl-data\\stylelib\\acmb_old.mplstyle\"\n",
      "  warnings.warn(message)\n",
      "C:\\Users\\Alyssa\\Anaconda3\\lib\\site-packages\\matplotlib\\style\\core.py:201: UserWarning: In C:\\Users\\Alyssa\\Anaconda3\\lib\\site-packages\\matplotlib\\mpl-data\\stylelib\\acmb_old.mplstyle: Illegal line #4\n",
      "\t\"\u0000\n",
      "\"\n",
      "\tin file \"C:\\Users\\Alyssa\\Anaconda3\\lib\\site-packages\\matplotlib\\mpl-data\\stylelib\\acmb_old.mplstyle\"\n",
      "  warnings.warn(message)\n",
      "C:\\Users\\Alyssa\\Anaconda3\\lib\\site-packages\\matplotlib\\style\\core.py:201: UserWarning: In C:\\Users\\Alyssa\\Anaconda3\\lib\\site-packages\\matplotlib\\mpl-data\\stylelib\\acmb_old.mplstyle: Illegal line #6\n",
      "\t\"\u0000\n",
      "\"\n",
      "\tin file \"C:\\Users\\Alyssa\\Anaconda3\\lib\\site-packages\\matplotlib\\mpl-data\\stylelib\\acmb_old.mplstyle\"\n",
      "  warnings.warn(message)\n",
      "C:\\Users\\Alyssa\\Anaconda3\\lib\\site-packages\\matplotlib\\style\\core.py:201: UserWarning: In C:\\Users\\Alyssa\\Anaconda3\\lib\\site-packages\\matplotlib\\mpl-data\\stylelib\\acmb_old.mplstyle: Illegal line #8\n",
      "\t\"\u0000\n",
      "\"\n",
      "\tin file \"C:\\Users\\Alyssa\\Anaconda3\\lib\\site-packages\\matplotlib\\mpl-data\\stylelib\\acmb_old.mplstyle\"\n",
      "  warnings.warn(message)\n",
      "C:\\Users\\Alyssa\\Anaconda3\\lib\\site-packages\\matplotlib\\style\\core.py:201: UserWarning: In C:\\Users\\Alyssa\\Anaconda3\\lib\\site-packages\\matplotlib\\mpl-data\\stylelib\\acmb_old.mplstyle: Illegal line #10\n",
      "\t\"\u0000\n",
      "\"\n",
      "\tin file \"C:\\Users\\Alyssa\\Anaconda3\\lib\\site-packages\\matplotlib\\mpl-data\\stylelib\\acmb_old.mplstyle\"\n",
      "  warnings.warn(message)\n",
      "C:\\Users\\Alyssa\\Anaconda3\\lib\\site-packages\\matplotlib\\style\\core.py:201: UserWarning: In C:\\Users\\Alyssa\\Anaconda3\\lib\\site-packages\\matplotlib\\mpl-data\\stylelib\\acmb_old.mplstyle: Illegal line #12\n",
      "\t\"\u0000\n",
      "\"\n",
      "\tin file \"C:\\Users\\Alyssa\\Anaconda3\\lib\\site-packages\\matplotlib\\mpl-data\\stylelib\\acmb_old.mplstyle\"\n",
      "  warnings.warn(message)\n",
      "C:\\Users\\Alyssa\\Anaconda3\\lib\\site-packages\\matplotlib\\style\\core.py:201: UserWarning: In C:\\Users\\Alyssa\\Anaconda3\\lib\\site-packages\\matplotlib\\mpl-data\\stylelib\\acmb_old.mplstyle: Illegal line #14\n",
      "\t\"\u0000\n",
      "\"\n",
      "\tin file \"C:\\Users\\Alyssa\\Anaconda3\\lib\\site-packages\\matplotlib\\mpl-data\\stylelib\\acmb_old.mplstyle\"\n",
      "  warnings.warn(message)\n",
      "C:\\Users\\Alyssa\\Anaconda3\\lib\\site-packages\\matplotlib\\style\\core.py:201: UserWarning: In C:\\Users\\Alyssa\\Anaconda3\\lib\\site-packages\\matplotlib\\mpl-data\\stylelib\\acmb_old.mplstyle: Illegal line #16\n",
      "\t\"\u0000\n",
      "\"\n",
      "\tin file \"C:\\Users\\Alyssa\\Anaconda3\\lib\\site-packages\\matplotlib\\mpl-data\\stylelib\\acmb_old.mplstyle\"\n",
      "  warnings.warn(message)\n",
      "C:\\Users\\Alyssa\\Anaconda3\\lib\\site-packages\\matplotlib\\style\\core.py:201: UserWarning: In C:\\Users\\Alyssa\\Anaconda3\\lib\\site-packages\\matplotlib\\mpl-data\\stylelib\\acmb_old.mplstyle: Illegal line #18\n",
      "\t\"\u0000\n",
      "\"\n",
      "\tin file \"C:\\Users\\Alyssa\\Anaconda3\\lib\\site-packages\\matplotlib\\mpl-data\\stylelib\\acmb_old.mplstyle\"\n",
      "  warnings.warn(message)\n",
      "C:\\Users\\Alyssa\\Anaconda3\\lib\\site-packages\\matplotlib\\style\\core.py:201: UserWarning: In C:\\Users\\Alyssa\\Anaconda3\\lib\\site-packages\\matplotlib\\mpl-data\\stylelib\\acmb_old.mplstyle: Illegal line #20\n",
      "\t\"\u0000\n",
      "\"\n",
      "\tin file \"C:\\Users\\Alyssa\\Anaconda3\\lib\\site-packages\\matplotlib\\mpl-data\\stylelib\\acmb_old.mplstyle\"\n",
      "  warnings.warn(message)\n",
      "C:\\Users\\Alyssa\\Anaconda3\\lib\\site-packages\\matplotlib\\style\\core.py:201: UserWarning: In C:\\Users\\Alyssa\\Anaconda3\\lib\\site-packages\\matplotlib\\mpl-data\\stylelib\\acmb_old.mplstyle: Illegal line #22\n",
      "\t\"\u0000\n",
      "\"\n",
      "\tin file \"C:\\Users\\Alyssa\\Anaconda3\\lib\\site-packages\\matplotlib\\mpl-data\\stylelib\\acmb_old.mplstyle\"\n",
      "  warnings.warn(message)\n",
      "C:\\Users\\Alyssa\\Anaconda3\\lib\\site-packages\\matplotlib\\style\\core.py:201: UserWarning: In C:\\Users\\Alyssa\\Anaconda3\\lib\\site-packages\\matplotlib\\mpl-data\\stylelib\\acmb_old.mplstyle: Illegal line #24\n",
      "\t\"\u0000\n",
      "\"\n",
      "\tin file \"C:\\Users\\Alyssa\\Anaconda3\\lib\\site-packages\\matplotlib\\mpl-data\\stylelib\\acmb_old.mplstyle\"\n",
      "  warnings.warn(message)\n",
      "C:\\Users\\Alyssa\\Anaconda3\\lib\\site-packages\\matplotlib\\style\\core.py:201: UserWarning: In C:\\Users\\Alyssa\\Anaconda3\\lib\\site-packages\\matplotlib\\mpl-data\\stylelib\\acmb_old.mplstyle: Illegal line #26\n",
      "\t\"\u0000\n",
      "\"\n",
      "\tin file \"C:\\Users\\Alyssa\\Anaconda3\\lib\\site-packages\\matplotlib\\mpl-data\\stylelib\\acmb_old.mplstyle\"\n",
      "  warnings.warn(message)\n"
     ]
    },
    {
     "ename": "ModuleNotFoundError",
     "evalue": "No module named 'ASTR001'",
     "output_type": "error",
     "traceback": [
      "\u001b[1;31m---------------------------------------------------------------------------\u001b[0m",
      "\u001b[1;31mModuleNotFoundError\u001b[0m                       Traceback (most recent call last)",
      "\u001b[1;32m<ipython-input-1-a6d36154f3e2>\u001b[0m in \u001b[0;36m<module>\u001b[1;34m()\u001b[0m\n\u001b[0;32m      8\u001b[0m \u001b[1;31m# This works because of the sys.path.append above\u001b[0m\u001b[1;33m\u001b[0m\u001b[1;33m\u001b[0m\u001b[0m\n\u001b[0;32m      9\u001b[0m \u001b[1;32mimport\u001b[0m \u001b[0mKID_model_functions\u001b[0m \u001b[1;32mas\u001b[0m \u001b[0mkids\u001b[0m\u001b[1;33m\u001b[0m\u001b[0m\n\u001b[1;32m---> 10\u001b[1;33m \u001b[1;32mfrom\u001b[0m \u001b[0mASTR001\u001b[0m \u001b[1;32mimport\u001b[0m \u001b[0mQprint\u001b[0m\u001b[1;33m\u001b[0m\u001b[0m\n\u001b[0m",
      "\u001b[1;31mModuleNotFoundError\u001b[0m: No module named 'ASTR001'"
     ]
    }
   ],
   "source": [
    "import numpy as np\n",
    "import matplotlib.pyplot as plt\n",
    "import sys, os\n",
    "from astropy import units as u, constants as c\n",
    "# This makes it possible to find the modules in the Python directory\n",
    "sys.path.append('./Python')\n",
    "sys.path.append('/Users/jaguirre/Documents/Teaching/ASTR001/2018C/PyCode/')\n",
    "# This works because of the sys.path.append above\n",
    "import KID_model_functions as kids\n",
    "from ASTR001 import Qprint"
   ]
  },
  {
   "cell_type": "code",
   "execution_count": null,
   "metadata": {},
   "outputs": [],
   "source": [
    "# Fiducial model\n",
    "alpha = 0.73*u.dimensionless_unscaled\n",
    "f = 200*u.MHz\n",
    "Tstage = 0.215*u.K\n",
    "Tc = 1.39*u.K\n",
    "V = 57*np.power(u.micron,3)\n",
    "n_star = 1318*(np.power(u.micron,-3))\n",
    "tau_max = 35*u.microsecond\n",
    "eta_pb = 0.57\n",
    "nu_opt = (350*u.micron).to(u.GHz,equivalencies=u.spectral())\n",
    "trans=1\n",
    "eta_opt = 0.17*u.dimensionless_unscaled\n",
    "N0=1.72e10*np.power(u.micron,-3)*np.power(u.eV,-1)"
   ]
  },
  {
   "cell_type": "code",
   "execution_count": null,
   "metadata": {},
   "outputs": [],
   "source": [
    "T_BB = np.linspace(0,10,30)*u.K\n",
    "P_inc = kids.TBB_to_Pinc(T_BB)#.to(u.fW)"
   ]
  },
  {
   "cell_type": "code",
   "execution_count": null,
   "metadata": {},
   "outputs": [],
   "source": [
    "plt.semilogy(T_BB[1:],P_inc[1:])\n",
    "plt.ylim([1e-3,10])"
   ]
  },
  {
   "cell_type": "code",
   "execution_count": null,
   "metadata": {},
   "outputs": [],
   "source": [
    "%%time\n",
    "S_xx = kids.Sxx(alpha,f,Tstage,Tc,T_BB,V,n_star,tau_max,eta_pb,nu_opt,eta_opt=0.17,trans=1,N0=N0)"
   ]
  },
  {
   "cell_type": "code",
   "execution_count": null,
   "metadata": {},
   "outputs": [],
   "source": [
    "np.arange(0.1,1,0.1)"
   ]
  },
  {
   "cell_type": "code",
   "execution_count": null,
   "metadata": {},
   "outputs": [],
   "source": [
    "for eta_opt in np.arange(0.1,1,0.1):\n",
    "    S_xx = kids.Sxx(alpha,f,Tstage,Tc,T_BB,V,n_star,tau_max,eta_pb,nu_opt,eta_opt=eta_opt,trans=1,N0=N0)\n",
    "    plt.plot(P_inc,S_xx)\n",
    "plt.xlabel(r'$P_{inc}$ ['+P_inc.unit.to_string()+']')\n",
    "plt.ylabel(r'$S_{xx}$ ['+S_xx.unit.to_string()+']')\n",
    "plt.show()"
   ]
  },
  {
   "cell_type": "code",
   "execution_count": null,
   "metadata": {},
   "outputs": [],
   "source": [
    "%%time\n",
    "for n_star in np.arange(100,1500,300)*np.power(u.micron,-3):\n",
    "    print(n_star)\n",
    "    S_xx = kids.Sxx(alpha,f,Tstage,Tc,T_BB,V,n_star,tau_max,eta_pb,nu_opt,eta_opt=0.8,trans=1,N0=N0)\n",
    "    plt.plot(P_inc,S_xx)\n",
    "plt.xlabel(r'$P_{inc}$ ['+P_inc.unit.to_string()+']')\n",
    "plt.ylabel(r'$S_{xx}$ ['+S_xx.unit.to_string()+']')\n",
    "plt.show()"
   ]
  },
  {
   "cell_type": "code",
   "execution_count": null,
   "metadata": {},
   "outputs": [],
   "source": [
    "for n_star in np.arange(100,1500,300)*np.power(u.micron,-3):\n",
    "    S_xx = kids.Sxx(alpha,f,Tstage,Tc,T_BB,V,n_star,tau_max,eta_pb,nu_opt,eta_opt=0.2,trans=1,N0=N0)\n",
    "    plt.plot(P_inc,S_xx)\n",
    "plt.xlabel(r'$P_{inc}$ ['+P_inc.unit.to_string()+']')\n",
    "plt.ylabel(r'$S_{xx}$ ['+S_xx.unit.to_string()+']')\n",
    "plt.show()"
   ]
  },
  {
   "cell_type": "code",
   "execution_count": null,
   "metadata": {},
   "outputs": [],
   "source": [
    "for tau_max in np.arange(30,1000,100)*u.microsecond:\n",
    "    print(tau_max)\n",
    "    S_xx = kids.Sxx(alpha,f,Tstage,Tc,T_BB,V,1300*np.power(u.micron,-3),\n",
    "                    tau_max,eta_pb,nu_opt,eta_opt=0.2,trans=1,N0=N0)\n",
    "    plt.plot(P_inc,S_xx)\n",
    "plt.xlabel(r'$P_{inc}$ ['+P_inc.unit.to_string()+']')\n",
    "plt.ylabel(r'$S_{xx}$ ['+S_xx.unit.to_string()+']')\n",
    "plt.show()"
   ]
  },
  {
   "cell_type": "code",
   "execution_count": null,
   "metadata": {},
   "outputs": [],
   "source": [
    "# Ideal (?) devices\n",
    "alpha = 0.73*u.dimensionless_unscaled\n",
    "f = 200*u.MHz\n",
    "Tstage = 0.215*u.K\n",
    "Tc = 1.39*u.K\n",
    "V = 57*np.power(u.micron,3)\n",
    "# According to Jonas, this is more reasonable\n",
    "n_star = 1300*(np.power(u.micron,-3))\n",
    "tau_max = 35*u.microsecond\n",
    "eta_pb = 0.57\n",
    "nu_opt = (350*u.micron).to(u.GHz,equivalencies=u.spectral())\n",
    "trans=1\n",
    "eta_opt = 0.2*u.dimensionless_unscaled\n",
    "N0=1.72e10*np.power(u.micron,-3)*np.power(u.eV,-1)"
   ]
  },
  {
   "cell_type": "code",
   "execution_count": null,
   "metadata": {},
   "outputs": [],
   "source": [
    "x = kids.xMB(alpha, f, Tstage, Tc, T_BB, V, n_star, tau_max, eta_pb, eta_opt)\n",
    "S_xx = kids.Sxx(alpha,f,Tstage,Tc,T_BB,V,n_star,\n",
    "                tau_max,eta_pb,nu_opt,eta_opt=eta_opt,trans=1,N0=N0)\n",
    "plt.figure(figsize=(20,5))\n",
    "plt.subplot(121)\n",
    "plt.plot(P_inc,x)\n",
    "plt.subplot(122)\n",
    "plt.plot(P_inc,S_xx)\n",
    "plt.xlabel(r'$P_{inc}$ ['+P_inc.unit.to_string()+']')\n",
    "plt.ylabel(r'$S_{xx}$ ['+S_xx.unit.to_string()+']')\n",
    "plt.show()"
   ]
  },
  {
   "cell_type": "code",
   "execution_count": null,
   "metadata": {},
   "outputs": [],
   "source": [
    "# Should add this to the kids code\n",
    "dxdP = np.gradient(x)/np.gradient(P_inc.to(u.W))"
   ]
  },
  {
   "cell_type": "code",
   "execution_count": null,
   "metadata": {},
   "outputs": [],
   "source": [
    "plt.plot(P_inc[2:],np.abs(dxdP[2:]))"
   ]
  },
  {
   "cell_type": "code",
   "execution_count": null,
   "metadata": {},
   "outputs": [],
   "source": [
    "plt.plot(P_inc[2:],1./np.abs(dxdP[2:])*np.sqrt(S_xx_dark))\n",
    "plt.axhline(1.e-17,linestyle='--',color='gray')\n",
    "plt.axvline(0.2,linestyle='--',color='gray')\n",
    "plt.show()"
   ]
  },
  {
   "cell_type": "code",
   "execution_count": null,
   "metadata": {},
   "outputs": [],
   "source": [
    "dxdP = 1.2e9/u.W\n",
    "S_xx_dark = 2.1e-17/u.Hz\n",
    "print(Qprint(1./dxdP*np.sqrt(S_xx_dark)))"
   ]
  },
  {
   "cell_type": "code",
   "execution_count": null,
   "metadata": {},
   "outputs": [],
   "source": [
    "# But isn't the NEP at any given loading a function of S_xx *at that loading*?  \n",
    "# i.e., the photon shot noise *additional* noise beyond the photon generation-recombination, I think\n",
    "def NEP(dxdP)"
   ]
  },
  {
   "cell_type": "code",
   "execution_count": null,
   "metadata": {},
   "outputs": [],
   "source": []
  }
 ],
 "metadata": {
  "kernelspec": {
   "display_name": "Python 3",
   "language": "python",
   "name": "python3"
  },
  "language_info": {
   "codemirror_mode": {
    "name": "ipython",
    "version": 3
   },
   "file_extension": ".py",
   "mimetype": "text/x-python",
   "name": "python",
   "nbconvert_exporter": "python",
   "pygments_lexer": "ipython3",
   "version": "3.6.5"
  }
 },
 "nbformat": 4,
 "nbformat_minor": 2
}
