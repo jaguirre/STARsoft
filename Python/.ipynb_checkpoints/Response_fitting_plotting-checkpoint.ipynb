{
 "cells": [
  {
   "cell_type": "code",
   "execution_count": 1,
   "metadata": {},
   "outputs": [],
   "source": [
    "# import packages\n",
    "import KID_model_functions as kids"
   ]
  },
  {
   "cell_type": "code",
   "execution_count": null,
   "metadata": {},
   "outputs": [],
   "source": []
  },
  {
   "cell_type": "code",
   "execution_count": null,
   "metadata": {},
   "outputs": [],
   "source": [
    "# Set constants"
   ]
  },
  {
   "cell_type": "code",
   "execution_count": null,
   "metadata": {},
   "outputs": [],
   "source": [
    "# Inputs -- T_BB\n",
    "            "
   ]
  },
  {
   "cell_type": "code",
   "execution_count": null,
   "metadata": {},
   "outputs": [],
   "source": [
    "''' Dummy function to simultaneously fit x_opt and Sxx as a function of TBB\n",
    "    Inputs -- data: data[0] = T_BB: Blackbody temperature in K (should be an array)\n",
    "                    data[1] = alpha: kinetic inductance fraction of the inductor (unitless)\n",
    "                    data[2] = f: KID pixel *Resonance Frequency* in MHz or similar\n",
    "                    data[3] = Tstage: Stage temperature in K (should be scalar)\n",
    "                    data[4] = Tc: Critical temperature of the superconductor in K\n",
    "                    data[5] = V: optically-active volume of the KID pixel in microns^3\n",
    "                    data[6] = eta_pb: pair breaking efficiency in the superconductor (unitless)\n",
    "                    data[7] = nu_opt: frequency of optical photons (in Hz or similar)\n",
    "                    data[8] = trans: transmission of a blocking filter (unitless); trans=0 gives nqp=nth\n",
    "                    data[9] =  N0: Density of states for the superconductor material (default is thin-film Al value)\n",
    "              n_star: quasiparticle number constant in microns^-3\n",
    "              tau_max: quasiparticle lifetime constant in microseconds\n",
    "              eta_opt: optical efficiency *of the detector* (unitless)\n",
    "              df: nuisance parameter to account for the fact that we can't measure at zero temperature and optical loading. \n",
    "                 *** df is in units inverse to f, but needs to be given as unitless for the fitter ***\n",
    "                 x_tot = x_MB + df/f = x_MB + dx -> dx = f*df\n",
    "              Sxx_0: Extra constant to account for noise from unknown sources in Hz^-1 but unitless because scipy.optimize.curve_fit doesn't like unit\n",
    "    Output -- glom: concatenation of x_opt and S_xx values (should always be of equal length)\n",
    "'''\n"
   ]
  },
  {
   "cell_type": "code",
   "execution_count": null,
   "metadata": {},
   "outputs": [],
   "source": [
    "response_fit_plot(T_BB,alpha,f,Tstage,Tc,V,eta_pb,nu_opt,trans,N0,n_star,tau_max,eta_opt,df,Sxx_0,outputfilename)"
   ]
  }
 ],
 "metadata": {
  "kernelspec": {
   "display_name": "Python 3",
   "language": "python",
   "name": "python3"
  },
  "language_info": {
   "codemirror_mode": {
    "name": "ipython",
    "version": 3
   },
   "file_extension": ".py",
   "mimetype": "text/x-python",
   "name": "python",
   "nbconvert_exporter": "python",
   "pygments_lexer": "ipython3",
   "version": "3.6.5"
  }
 },
 "nbformat": 4,
 "nbformat_minor": 2
}
