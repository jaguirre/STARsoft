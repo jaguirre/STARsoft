{
 "cells": [
  {
   "cell_type": "code",
   "execution_count": 15,
   "metadata": {},
   "outputs": [],
   "source": [
    "import KID_model_functions as kids\n",
    "import fitting_KID_model_functions as fitkids\n",
    "import numpy as np\n",
    "import matplotlib.pyplot as plt\n",
    "from scipy.optimize import curve_fit\n",
    "from astropy import units as u"
   ]
  },
  {
   "cell_type": "code",
   "execution_count": null,
   "metadata": {},
   "outputs": [],
   "source": []
  },
  {
   "cell_type": "code",
   "execution_count": 16,
   "metadata": {},
   "outputs": [],
   "source": [
    "alpha = 0.73*u.dimensionless_unscaled\n",
    "f = 331.6*u.MHz\n",
    "Tstage = 0.215*u.K\n",
    "Tc = 1.39*u.K\n",
    "TBB_0 = 6.0*u.K\n",
    "V = 38*1.5*0.8*np.power(u.micron,3) # volume w/20nm film is 38um3, multiply by 1.5 for ~30nm film, minus 20% for overetching trace width\n",
    "eta_pb = 0.57\n",
    "nu_opt = (350*u.micron).to(u.GHz,equivalencies=u.spectral())\n",
    "N0=1.72e10*np.power(u.micron,-3)*np.power(u.eV,-1)"
   ]
  },
  {
   "cell_type": "code",
   "execution_count": 17,
   "metadata": {},
   "outputs": [],
   "source": [
    "trans=0.03\n",
    "\n",
    "eta_opt = 0.8*u.dimensionless_unscaled\n",
    "n_star = 1318*(np.power(u.micron,-3))\n",
    "tau_max = 35*u.microsecond"
   ]
  },
  {
   "cell_type": "code",
   "execution_count": 18,
   "metadata": {},
   "outputs": [],
   "source": [
    "TBBoptdata,f0optdata,xoptdata,sxxoptdata = np.loadtxt('optical_response_evap_devices/CD012_reduced_Res0.csv',delimiter=',',unpack=True)"
   ]
  },
  {
   "cell_type": "code",
   "execution_count": 19,
   "metadata": {},
   "outputs": [],
   "source": [
    "Pincoptdata = kids.TBB_to_Pinc(TBBoptdata,trans=trans)"
   ]
  },
  {
   "cell_type": "code",
   "execution_count": 20,
   "metadata": {},
   "outputs": [],
   "source": [
    "TBBoptpts = np.sort(list(set(TBBoptdata)))\n",
    "Pincoptpts = kids.TBB_to_Pinc(TBBoptpts,trans=trans)"
   ]
  },
  {
   "cell_type": "code",
   "execution_count": 21,
   "metadata": {},
   "outputs": [],
   "source": [
    "f0optpts = []\n",
    "f0opterr = []\n",
    "xoptpts = []\n",
    "xopterr = []\n",
    "sxxoptpts = []\n",
    "sxxopterr = []\n"
   ]
  },
  {
   "cell_type": "code",
   "execution_count": 22,
   "metadata": {},
   "outputs": [],
   "source": [
    "for temp in TBBoptpts:\n",
    "    inds = np.where(TBBoptdata == temp)\n",
    "    \n",
    "    f0optpts.append(np.average(f0optdata[inds]))\n",
    "    f0opterr.append(np.std(f0optdata[inds])/np.sqrt(len(inds)))\n",
    "    \n",
    "    xoptpts.append(np.average(xoptdata[inds]))\n",
    "    xopterr.append(np.std(xoptdata[inds])/np.sqrt(len(inds)))\n",
    "    \n",
    "    sxxoptpts.append(np.average(sxxoptdata[inds]))\n",
    "    sxxopterr.append(np.std(sxxoptdata[inds])/np.sqrt(len(inds)))\n",
    "    "
   ]
  },
  {
   "cell_type": "code",
   "execution_count": 23,
   "metadata": {},
   "outputs": [],
   "source": [
    "Tstagedarkdata,f0darkdata,xdarkdata,sxxdarkdata = np.loadtxt('optical_response_evap_devices/CD011_reduced_Res0.csv',delimiter=',',unpack=True)"
   ]
  },
  {
   "cell_type": "code",
   "execution_count": 24,
   "metadata": {},
   "outputs": [],
   "source": [
    "Tstagedarkpts = np.sort(list(set(Tstagedarkdata)))\n",
    "f0darkpts = []\n",
    "f0darkerr = []\n",
    "xdarkpts = []\n",
    "xdarkerr = []\n",
    "sxxdarkpts = []\n",
    "sxxdarkerr = []"
   ]
  },
  {
   "cell_type": "code",
   "execution_count": 25,
   "metadata": {},
   "outputs": [],
   "source": [
    "for temp in Tstagedarkpts:\n",
    "    inds = np.where(Tstagedarkdata == temp)\n",
    "    \n",
    "    f0darkpts.append(np.average(f0darkdata[inds]))\n",
    "    f0darkerr.append(np.std(f0darkdata[inds])/np.sqrt(len(inds)))\n",
    "    \n",
    "    xdarkpts.append(np.average(xdarkdata[inds]))\n",
    "    xdarkerr.append(np.std(xdarkdata[inds])/np.sqrt(len(inds)))\n",
    "    \n",
    "    sxxdarkpts.append(np.average(sxxdarkdata[inds]))\n",
    "    sxxdarkerr.append(np.std(sxxdarkdata[inds])/np.sqrt(len(inds)))\n",
    "    "
   ]
  },
  {
   "cell_type": "code",
   "execution_count": 31,
   "metadata": {},
   "outputs": [
    {
     "data": {
      "text/plain": [
       "array([0.215, 0.225, 0.25 , 0.275, 0.3  , 0.325])"
      ]
     },
     "execution_count": 31,
     "metadata": {},
     "output_type": "execute_result"
    }
   ],
   "source": [
    "# triple simultaneous fit of x_opt,sxx_opt,sxx_dark for n_star,tau_max,eta_Opt, df,Sxx_0_Opt,S_xx_0_dark\n",
    "data0 = np.array([TBBoptpts,TBBoptpts,Tstagedarkpts])\n",
    "\n",
    "np.array(Tstagedarkpts)"
   ]
  },
  {
   "cell_type": "code",
   "execution_count": 30,
   "metadata": {},
   "outputs": [
    {
     "data": {
      "text/plain": [
       "array([array([array([5.61, 5.75, 5.95, 6.65, 7.1 , 7.45, 7.8 ]),\n",
       "       array([5.61, 5.75, 5.95, 6.65, 7.1 , 7.45, 7.8 ]),\n",
       "       array([0.215, 0.225, 0.25 , 0.275, 0.3  , 0.325])], dtype=object),\n",
       "       <Quantity 0.73>, <Quantity 331.6 MHz>, <Quantity 0.215 K>,\n",
       "       <Quantity 1.39 K>, <Quantity 45.6 micron3>, 0.57,\n",
       "       <Quantity 856.54988 GHz>, 0.03,\n",
       "       <Quantity 1.72e+10 1 / (eV micron3)>], dtype=object)"
      ]
     },
     "execution_count": 30,
     "metadata": {},
     "output_type": "execute_result"
    }
   ],
   "source": [
    "Tstage0 = .215*u.K\n",
    "data = np.array([data0,alpha,f,Tstage0,Tc,V,eta_pb,nu_opt,trans,N0])\n",
    "ydata = np.array([xoptpts,sxxoptpts,sxxdarkpts])\n",
    "yerr = np.array([xopterr,sxxopterr,sxxdarkerr])\n",
    "# parameters: n_star,tau_max,eta_opt,df,Sxx_0_opt,Sxx_0_dark\n",
    "# p0 = [1000*(np.power(u.micron,-3)),50*u.microsecond,.8,1e-8,1e-17,1e-17]\n",
    "p0 = [1000,50,.8,1e-8,1e-17,1e-17]\n",
    "bounds = ([10,10,0,0,1e-19,1e-19],[1e5,1e4,1,1e-17,1e-17])\n",
    "\n",
    "d2 = data.flatten()\n",
    "d2"
   ]
  },
  {
   "cell_type": "code",
   "execution_count": 27,
   "metadata": {},
   "outputs": [
    {
     "name": "stdout",
     "output_type": "stream",
     "text": [
      "TBBxOpt shape: (7,)\n",
      "TBBSxxOpt shape: (7,)\n",
      "Tstagedark shape: (6,)\n",
      "glom shape: (3,)\n"
     ]
    },
    {
     "ename": "TypeError",
     "evalue": "Improper input: N=6 must not exceed M=3",
     "output_type": "error",
     "traceback": [
      "\u001b[1;31m---------------------------------------------------------------------------\u001b[0m",
      "\u001b[1;31mTypeError\u001b[0m                                 Traceback (most recent call last)",
      "\u001b[1;32m<ipython-input-27-dc22e7399d6f>\u001b[0m in \u001b[0;36m<module>\u001b[1;34m()\u001b[0m\n\u001b[0;32m      7\u001b[0m \u001b[0mp0\u001b[0m \u001b[1;33m=\u001b[0m \u001b[1;33m[\u001b[0m\u001b[1;36m1000\u001b[0m\u001b[1;33m,\u001b[0m\u001b[1;36m50\u001b[0m\u001b[1;33m,\u001b[0m\u001b[1;36m.8\u001b[0m\u001b[1;33m,\u001b[0m\u001b[1;36m1e-8\u001b[0m\u001b[1;33m,\u001b[0m\u001b[1;36m1e-17\u001b[0m\u001b[1;33m,\u001b[0m\u001b[1;36m1e-17\u001b[0m\u001b[1;33m]\u001b[0m\u001b[1;33m\u001b[0m\u001b[0m\n\u001b[0;32m      8\u001b[0m \u001b[0mbounds\u001b[0m \u001b[1;33m=\u001b[0m \u001b[1;33m(\u001b[0m\u001b[1;33m[\u001b[0m\u001b[1;36m10\u001b[0m\u001b[1;33m,\u001b[0m\u001b[1;36m10\u001b[0m\u001b[1;33m,\u001b[0m\u001b[1;36m0\u001b[0m\u001b[1;33m,\u001b[0m\u001b[1;36m0\u001b[0m\u001b[1;33m,\u001b[0m\u001b[1;36m1e-19\u001b[0m\u001b[1;33m,\u001b[0m\u001b[1;36m1e-19\u001b[0m\u001b[1;33m]\u001b[0m\u001b[1;33m,\u001b[0m\u001b[1;33m[\u001b[0m\u001b[1;36m1e5\u001b[0m\u001b[1;33m,\u001b[0m\u001b[1;36m1e4\u001b[0m\u001b[1;33m,\u001b[0m\u001b[1;36m1\u001b[0m\u001b[1;33m,\u001b[0m\u001b[1;36m1e-17\u001b[0m\u001b[1;33m,\u001b[0m\u001b[1;36m1e-17\u001b[0m\u001b[1;33m]\u001b[0m\u001b[1;33m)\u001b[0m\u001b[1;33m\u001b[0m\u001b[0m\n\u001b[1;32m----> 9\u001b[1;33m \u001b[0mcomb_popt\u001b[0m\u001b[1;33m,\u001b[0m\u001b[0mcomb_pcov\u001b[0m \u001b[1;33m=\u001b[0m \u001b[0mcurve_fit\u001b[0m\u001b[1;33m(\u001b[0m\u001b[0mfitkids\u001b[0m\u001b[1;33m.\u001b[0m\u001b[0mx_Sxx_dark_opt_simulfit\u001b[0m\u001b[1;33m,\u001b[0m\u001b[0mdata\u001b[0m\u001b[1;33m,\u001b[0m\u001b[0mydata\u001b[0m\u001b[1;33m,\u001b[0m\u001b[0mp0\u001b[0m\u001b[1;33m=\u001b[0m\u001b[0mp0\u001b[0m\u001b[1;33m)\u001b[0m\u001b[1;33m\u001b[0m\u001b[0m\n\u001b[0m",
      "\u001b[1;32m~\\Anaconda3\\lib\\site-packages\\scipy\\optimize\\minpack.py\u001b[0m in \u001b[0;36mcurve_fit\u001b[1;34m(f, xdata, ydata, p0, sigma, absolute_sigma, check_finite, bounds, method, jac, **kwargs)\u001b[0m\n\u001b[0;32m    749\u001b[0m         \u001b[1;31m# Remove full_output from kwargs, otherwise we're passing it in twice.\u001b[0m\u001b[1;33m\u001b[0m\u001b[1;33m\u001b[0m\u001b[0m\n\u001b[0;32m    750\u001b[0m         \u001b[0mreturn_full\u001b[0m \u001b[1;33m=\u001b[0m \u001b[0mkwargs\u001b[0m\u001b[1;33m.\u001b[0m\u001b[0mpop\u001b[0m\u001b[1;33m(\u001b[0m\u001b[1;34m'full_output'\u001b[0m\u001b[1;33m,\u001b[0m \u001b[1;32mFalse\u001b[0m\u001b[1;33m)\u001b[0m\u001b[1;33m\u001b[0m\u001b[0m\n\u001b[1;32m--> 751\u001b[1;33m         \u001b[0mres\u001b[0m \u001b[1;33m=\u001b[0m \u001b[0mleastsq\u001b[0m\u001b[1;33m(\u001b[0m\u001b[0mfunc\u001b[0m\u001b[1;33m,\u001b[0m \u001b[0mp0\u001b[0m\u001b[1;33m,\u001b[0m \u001b[0mDfun\u001b[0m\u001b[1;33m=\u001b[0m\u001b[0mjac\u001b[0m\u001b[1;33m,\u001b[0m \u001b[0mfull_output\u001b[0m\u001b[1;33m=\u001b[0m\u001b[1;36m1\u001b[0m\u001b[1;33m,\u001b[0m \u001b[1;33m**\u001b[0m\u001b[0mkwargs\u001b[0m\u001b[1;33m)\u001b[0m\u001b[1;33m\u001b[0m\u001b[0m\n\u001b[0m\u001b[0;32m    752\u001b[0m         \u001b[0mpopt\u001b[0m\u001b[1;33m,\u001b[0m \u001b[0mpcov\u001b[0m\u001b[1;33m,\u001b[0m \u001b[0minfodict\u001b[0m\u001b[1;33m,\u001b[0m \u001b[0merrmsg\u001b[0m\u001b[1;33m,\u001b[0m \u001b[0mier\u001b[0m \u001b[1;33m=\u001b[0m \u001b[0mres\u001b[0m\u001b[1;33m\u001b[0m\u001b[0m\n\u001b[0;32m    753\u001b[0m         \u001b[0mcost\u001b[0m \u001b[1;33m=\u001b[0m \u001b[0mnp\u001b[0m\u001b[1;33m.\u001b[0m\u001b[0msum\u001b[0m\u001b[1;33m(\u001b[0m\u001b[0minfodict\u001b[0m\u001b[1;33m[\u001b[0m\u001b[1;34m'fvec'\u001b[0m\u001b[1;33m]\u001b[0m \u001b[1;33m**\u001b[0m \u001b[1;36m2\u001b[0m\u001b[1;33m)\u001b[0m\u001b[1;33m\u001b[0m\u001b[0m\n",
      "\u001b[1;32m~\\Anaconda3\\lib\\site-packages\\scipy\\optimize\\minpack.py\u001b[0m in \u001b[0;36mleastsq\u001b[1;34m(func, x0, args, Dfun, full_output, col_deriv, ftol, xtol, gtol, maxfev, epsfcn, factor, diag)\u001b[0m\n\u001b[0;32m    384\u001b[0m     \u001b[0mm\u001b[0m \u001b[1;33m=\u001b[0m \u001b[0mshape\u001b[0m\u001b[1;33m[\u001b[0m\u001b[1;36m0\u001b[0m\u001b[1;33m]\u001b[0m\u001b[1;33m\u001b[0m\u001b[0m\n\u001b[0;32m    385\u001b[0m     \u001b[1;32mif\u001b[0m \u001b[0mn\u001b[0m \u001b[1;33m>\u001b[0m \u001b[0mm\u001b[0m\u001b[1;33m:\u001b[0m\u001b[1;33m\u001b[0m\u001b[0m\n\u001b[1;32m--> 386\u001b[1;33m         \u001b[1;32mraise\u001b[0m \u001b[0mTypeError\u001b[0m\u001b[1;33m(\u001b[0m\u001b[1;34m'Improper input: N=%s must not exceed M=%s'\u001b[0m \u001b[1;33m%\u001b[0m \u001b[1;33m(\u001b[0m\u001b[0mn\u001b[0m\u001b[1;33m,\u001b[0m \u001b[0mm\u001b[0m\u001b[1;33m)\u001b[0m\u001b[1;33m)\u001b[0m\u001b[1;33m\u001b[0m\u001b[0m\n\u001b[0m\u001b[0;32m    387\u001b[0m     \u001b[1;32mif\u001b[0m \u001b[0mepsfcn\u001b[0m \u001b[1;32mis\u001b[0m \u001b[1;32mNone\u001b[0m\u001b[1;33m:\u001b[0m\u001b[1;33m\u001b[0m\u001b[0m\n\u001b[0;32m    388\u001b[0m         \u001b[0mepsfcn\u001b[0m \u001b[1;33m=\u001b[0m \u001b[0mfinfo\u001b[0m\u001b[1;33m(\u001b[0m\u001b[0mdtype\u001b[0m\u001b[1;33m)\u001b[0m\u001b[1;33m.\u001b[0m\u001b[0meps\u001b[0m\u001b[1;33m\u001b[0m\u001b[0m\n",
      "\u001b[1;31mTypeError\u001b[0m: Improper input: N=6 must not exceed M=3"
     ]
    }
   ],
   "source": [
    "comb_popt,comb_pcov = curve_fit(fitkids.x_Sxx_dark_opt_simulfit,data,ydata,p0=p0)"
   ]
  },
  {
   "cell_type": "code",
   "execution_count": null,
   "metadata": {},
   "outputs": [],
   "source": [
    "np.shape(ydata)"
   ]
  },
  {
   "cell_type": "code",
   "execution_count": null,
   "metadata": {},
   "outputs": [],
   "source": [
    "alpha = 0.73*u.dimensionless_unscaled\n",
    "f = 331.6*u.MHz\n",
    "Tc = 1.39*u.K\n",
    "TBB_0 = 6.0*u.K\n",
    "V = 76*np.power(u.micron,3)#38*1.5*0.8*np.power(u.micron,3) # volume w/20nm film is 38um3, multiply by 1.5 for ~30nm film, minus 20% for overetching trace width\n",
    "eta_pb = 0.57\n",
    "nu_opt = (350*u.micron).to(u.GHz,equivalencies=u.spectral())\n",
    "N0=1.72e10*np.power(u.micron,-3)*np.power(u.eV,-1)\n",
    "\n",
    "trans=0\n",
    "\n",
    "eta_opt = 0.17*u.dimensionless_unscaled\n",
    "n_star = 1392*(np.power(u.micron,-3))\n",
    "tau_max = 20*u.microsecond\n",
    "\n",
    "Sxx_0dark = 1.75e-17*np.power(u.Hz,-1)\n",
    "\n",
    "Tstagedarkmod = np.linspace(0.210,0.35,num=50)\n",
    "Sxxdarkmod = kids.Sxx(alpha,f,Tstagedarkmod,Tc,TBB_0,V,n_star,tau_max,eta_pb,nu_opt,eta_opt,trans=0,N0=N0)+Sxx_0dark"
   ]
  },
  {
   "cell_type": "code",
   "execution_count": null,
   "metadata": {},
   "outputs": [],
   "source": [
    "alpha = 0.73*u.dimensionless_unscaled\n",
    "f = 331.6*u.MHz\n",
    "Tc = 1.39*u.K\n",
    "TBB_0 = 6.0*u.K\n",
    "V = 38*1.5*0.8*np.power(u.micron,3) # volume w/20nm film is 38um3, multiply by 1.5 for ~30nm film, minus 20% for overetching trace width\n",
    "eta_pb = 0.57\n",
    "nu_opt = (350*u.micron).to(u.GHz,equivalencies=u.spectral())\n",
    "N0=1.72e10*np.power(u.micron,-3)*np.power(u.eV,-1)\n",
    "\n",
    "trans=0\n",
    "\n",
    "eta_opt = 0.8*u.dimensionless_unscaled\n",
    "n_star = 100*(np.power(u.micron,-3))\n",
    "tau_max = 100*u.microsecond\n",
    "\n",
    "Sxx_0dark = .5e-17*np.power(u.Hz,-1)\n",
    "\n",
    "Tstagedarkmod2 = np.linspace(0.210,0.35,num=50)\n",
    "Sxxdarkmod2 = kids.Sxx(alpha,f,Tstagedarkmod,Tc,TBB_0,V,n_star,tau_max,eta_pb,nu_opt,eta_opt,trans=0,N0=N0)+Sxx_0dark"
   ]
  },
  {
   "cell_type": "code",
   "execution_count": null,
   "metadata": {},
   "outputs": [],
   "source": [
    "plt.errorbar(x=Tstagedarkpts,y=sxxdarkpts,yerr=sxxdarkerr,linestyle=None,fmt='s',markerfacecolor='w',markeredgecolor='k',ecolor='k',label='data')\n",
    "plt.plot(Tstagedarkmod,Sxxdarkmod,'g-',label='Sputtered device Model')\n",
    "plt.plot(Tstagedarkmod2,Sxxdarkmod2,'b:',label='Model 2')\n",
    "plt.ticklabel_format(axis='y',style='sci',scilimits=(0,0))\n",
    "plt.xlabel(r'$T_{stage}$ (K)')\n",
    "plt.ylabel(r'$S_{xx}$ (Hz$^{-1}$)')\n",
    "plt.title(r'Dark test (CD011), f0$\\approx$331.6 MHz')\n",
    "plt.legend(loc='upper left')\n",
    "plt.savefig('CD011_res0_sxx_vs_Tstage.png')\n",
    "#plt.plot(Tstagedarkdata,sxxdarkdata,'ko')"
   ]
  },
  {
   "cell_type": "code",
   "execution_count": null,
   "metadata": {},
   "outputs": [],
   "source": [
    "alpha = 0.73*u.dimensionless_unscaled\n",
    "f = 331.6*u.MHz\n",
    "Tc = 1.39*u.K\n",
    "Tstage_0 = .215*u.K\n",
    "V = 76*np.power(u.micron,3)#38*1.5*0.8*np.power(u.micron,3) # volume w/20nm film is 38um3, multiply by 1.5 for ~30nm film, minus 20% for overetching trace width\n",
    "eta_pb = 0.57\n",
    "nu_opt = (350*u.micron).to(u.GHz,equivalencies=u.spectral())\n",
    "N0=1.72e10*np.power(u.micron,-3)*np.power(u.eV,-1)\n",
    "\n",
    "trans=0.03\n",
    "\n",
    "eta_opt = 0.17*u.dimensionless_unscaled\n",
    "n_star = 1392*(np.power(u.micron,-3))\n",
    "tau_max = 20*u.microsecond\n",
    "\n",
    "Sxx_0opt = 1.75e-17*np.power(u.Hz,-1)\n",
    "\n",
    "TBBoptmod = np.linspace(5,8,num=50)\n",
    "Pincoptmod = kids.TBB_to_Pinc(TBBoptmod,trans)\n",
    "xoptmod = kids.xMB(alpha,f,Tstage_0,Tc,TBBoptmod,V,n_star,tau_max,eta_pb,eta_opt,trans=trans,N0=N0)\n",
    "Sxxoptmod = kids.Sxx(alpha,f,Tstage_0,Tc,TBBoptmod,V,n_star,tau_max,eta_pb,nu_opt,eta_opt,trans=trans,N0=N0)+Sxx_0dark"
   ]
  },
  {
   "cell_type": "code",
   "execution_count": null,
   "metadata": {},
   "outputs": [],
   "source": [
    "alpha = 0.73*u.dimensionless_unscaled\n",
    "f = 331.6*u.MHz\n",
    "Tc = 1.39*u.K\n",
    "Tstage_0 = .215*u.K\n",
    "V = 38*1.5*0.8*np.power(u.micron,3) # volume w/20nm film is 38um3, multiply by 1.5 for ~30nm film, minus 20% for overetching trace width\n",
    "eta_pb = 0.57\n",
    "nu_opt = (350*u.micron).to(u.GHz,equivalencies=u.spectral())\n",
    "N0=1.72e10*np.power(u.micron,-3)*np.power(u.eV,-1)\n",
    "\n",
    "trans=0.03\n",
    "\n",
    "eta_opt = 0.8*u.dimensionless_unscaled\n",
    "n_star = 100*(np.power(u.micron,-3))\n",
    "tau_max = 50*u.microsecond\n",
    "\n",
    "Sxx_0opt = 1.75e-17*np.power(u.Hz,-1)\n",
    "\n",
    "TBBoptmod2 = np.linspace(5,8,num=50)\n",
    "Pincoptmod2 = kids.TBB_to_Pinc(TBBoptmod2,trans)\n",
    "xoptmod2 = kids.xMB(alpha,f,Tstage_0,Tc,TBBoptmod,V,n_star,tau_max,eta_pb,eta_opt,trans=trans,N0=N0)\n",
    "Sxxoptmod2 = kids.Sxx(alpha,f,Tstage_0,Tc,TBBoptmod,V,n_star,tau_max,eta_pb,nu_opt,eta_opt,trans=trans,N0=N0)+Sxx_0dark"
   ]
  },
  {
   "cell_type": "code",
   "execution_count": null,
   "metadata": {},
   "outputs": [],
   "source": [
    "plt.errorbar(x=Pincoptpts.value,y=xoptpts,yerr=xopterr,linestyle=None,fmt='s',markerfacecolor='w',markeredgecolor='k',ecolor='k',label='data')\n",
    "#plt.plot(Pincoptmod,xoptmod,'g-',label='Sputtered device model')\n",
    "#plt.plot(Pincoptmod2,xoptmod2,'b:',label='Model 2')\n",
    "plt.ticklabel_format(axis='y',style='sci',scilimits=(0,0))\n",
    "plt.xlabel(r'$P_{inc}$ (pW)')\n",
    "plt.ylabel('x = df/f')\n",
    "plt.title(r'Optical test (CD012), f0$\\approx$331.6 MHz' + '\\n' + 'With 3% transmissive mask')\n",
    "plt.legend(loc='lower left')\n",
    "plt.savefig('CD012_res0_x_vs_Pinc.png')\n"
   ]
  },
  {
   "cell_type": "code",
   "execution_count": null,
   "metadata": {},
   "outputs": [],
   "source": [
    "plt.errorbar(x=Pincoptpts.value,y=sxxoptpts,yerr=sxxopterr,linestyle=None,fmt='s',markerfacecolor='w',markeredgecolor='k',ecolor='k',label='data')\n",
    "#plt.plot(Pincoptmod,Sxxoptmod,'g-',label='Sputtered device model')\n",
    "#plt.plot(Pincoptmod2,Sxxoptmod2,'b:',label='Model 2')\n",
    "plt.ticklabel_format(axis='y',style='sci',scilimits=(0,0))\n",
    "plt.xlabel(r'$P_{inc}$ (pW)')\n",
    "plt.ylabel(r'$S_{xx}$ (Hz$^{-1}$)')\n",
    "plt.title(r'Optical test (CD012), f0$\\approx$331.6 MHz' + '\\n' + 'With 3% transmissive mask')\n",
    "plt.legend(loc='lower right')\n",
    "plt.savefig('CD012_res0_sxx_vs_Pinc.png')\n",
    "#plt.plot(Pincoptdata,sxxoptdata,'ko')"
   ]
  },
  {
   "cell_type": "code",
   "execution_count": null,
   "metadata": {},
   "outputs": [],
   "source": []
  },
  {
   "cell_type": "code",
   "execution_count": null,
   "metadata": {},
   "outputs": [],
   "source": [
    "import numpy as np\n",
    "import matplotlib.pyplot as plt\n",
    "\n",
    "\n",
    "data = [[ 66386, 174296,  75131, 577908,  32015],\n",
    "        [ 58230, 381139,  78045,  99308, 160454],\n",
    "        [ 89135,  80552, 152558, 497981, 603535],\n",
    "        [ 78415,  81858, 150656, 193263,  69638],\n",
    "        [139361, 331509, 343164, 781380,  52269]]\n",
    "\n",
    "columns = ('Freeze', 'Wind', 'Flood', 'Quake', 'Hail')\n",
    "rows = ['%d year' % x for x in (100, 50, 20, 10, 5)]\n",
    "\n",
    "values = np.arange(0, 2500, 500)\n",
    "value_increment = 1000\n",
    "\n",
    "# Get some pastel shades for the colors\n",
    "colors = plt.cm.BuPu(np.linspace(0, 0.5, len(rows)))\n",
    "n_rows = len(data)\n",
    "\n",
    "index = np.arange(len(columns)) + 0.3\n",
    "bar_width = 0.4\n",
    "\n",
    "# Initialize the vertical-offset for the stacked bar chart.\n",
    "y_offset = np.zeros(len(columns))\n",
    "\n",
    "# Plot bars and create text labels for the table\n",
    "cell_text = []\n",
    "for row in range(n_rows):\n",
    "    plt.bar(index, data[row], bar_width, bottom=y_offset, color=colors[row])\n",
    "    y_offset = y_offset + data[row]\n",
    "    cell_text.append(['%1.1f' % (x / 1000.0) for x in y_offset])\n",
    "# Reverse colors and text labels to display the last value at the top.\n",
    "colors = colors[::-1]\n",
    "cell_text.reverse()\n",
    "\n",
    "# Add a table at the bottom of the axes\n",
    "the_table = plt.table(cellText=cell_text,\n",
    "                      rowLabels=rows,\n",
    "                      rowColours=colors,\n",
    "                      colLabels=columns,\n",
    "                      loc='bottom')\n",
    "\n",
    "# Adjust layout to make room for the table:\n",
    "plt.subplots_adjust(left=0.2, bottom=0.2)\n",
    "\n",
    "plt.ylabel(\"Loss in ${0}'s\".format(value_increment))\n",
    "plt.yticks(values * value_increment, ['%d' % val for val in values])\n",
    "plt.xticks([])\n",
    "plt.title('Loss by Disaster')\n",
    "\n",
    "plt.show()"
   ]
  },
  {
   "cell_type": "code",
   "execution_count": null,
   "metadata": {},
   "outputs": [],
   "source": [
    "cell_text"
   ]
  },
  {
   "cell_type": "code",
   "execution_count": null,
   "metadata": {},
   "outputs": [],
   "source": [
    "rows"
   ]
  },
  {
   "cell_type": "code",
   "execution_count": null,
   "metadata": {},
   "outputs": [],
   "source": [
    "columns"
   ]
  },
  {
   "cell_type": "code",
   "execution_count": null,
   "metadata": {},
   "outputs": [],
   "source": []
  }
 ],
 "metadata": {
  "kernelspec": {
   "display_name": "Python 3",
   "language": "python",
   "name": "python3"
  },
  "language_info": {
   "codemirror_mode": {
    "name": "ipython",
    "version": 3
   },
   "file_extension": ".py",
   "mimetype": "text/x-python",
   "name": "python",
   "nbconvert_exporter": "python",
   "pygments_lexer": "ipython3",
   "version": "3.6.5"
  }
 },
 "nbformat": 4,
 "nbformat_minor": 2
}
